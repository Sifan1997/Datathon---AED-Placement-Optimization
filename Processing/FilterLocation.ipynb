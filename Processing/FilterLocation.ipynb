{
  "cells": [
    {
      "cell_type": "code",
      "execution_count": 1,
      "metadata": {
        "id": "5PLfGXdtAy5H"
      },
      "outputs": [],
      "source": [
        "import pandas as pd\n",
        "import geopandas as gpd\n",
        "from shapely.geometry import Point\n",
        "# from geopy.distance import distance\n",
        "from tqdm import tqdm\n",
        "\n",
        "import warnings\n",
        "warnings.filterwarnings(\"ignore\")"
      ]
    },
    {
      "cell_type": "code",
      "execution_count": 4,
      "metadata": {
        "id": "d9pRdmJhA-O3"
      },
      "outputs": [],
      "source": [
        "df1 = pd.read_csv('interventions_ca_geoloc_with_province.csv') \n",
        "df2 = pd.read_csv('hospital.csv')\n",
        "df3 = pd.read_csv('merged_aed_loc_withlatlon.csv')\n",
        "\n",
        "df_intervention = df1[['lat', 'lon']]\n",
        "df_hospital = df2[['Latitude', 'Longitude']]\n",
        "df_aed = df3[['lat','lon']]"
      ]
    },
    {
      "cell_type": "code",
      "execution_count": 5,
      "metadata": {
        "id": "3ShGAaLxCcF6"
      },
      "outputs": [],
      "source": [
        "df_intervention = df_intervention.dropna()\n",
        "df_hospital = df_hospital.dropna()\n",
        "df_aed = df_aed.dropna()"
      ]
    },
    {
      "cell_type": "code",
      "execution_count": 6,
      "metadata": {
        "colab": {
          "base_uri": "https://localhost:8080/",
          "height": 365
        },
        "id": "SwnupZJLu8JI",
        "outputId": "ac60fa1b-86e2-4265-9e8a-9b409d0a84b9"
      },
      "outputs": [
        {
          "name": "stderr",
          "output_type": "stream",
          "text": [
            "100%|██████████| 12286/12286 [00:40<00:00, 306.87it/s]"
          ]
        },
        {
          "name": "stdout",
          "output_type": "stream",
          "text": [
            "6471\n",
            "5815\n"
          ]
        },
        {
          "name": "stderr",
          "output_type": "stream",
          "text": [
            "\n"
          ]
        }
      ],
      "source": [
        "gdf_intervention = gpd.GeoDataFrame(df_intervention, geometry=gpd.points_from_xy(df_intervention.lon,df_intervention.lat),crs=\"EPSG:4326\")\n",
        "gdf_intervention = gdf_intervention.to_crs(3857) # unit: meter\n",
        "gdf_hospital = gpd.GeoDataFrame(df_hospital, geometry=gpd.points_from_xy(df_hospital.Longitude, df_hospital.Latitude),crs=\"EPSG:4326\")\n",
        "gdf_hospital = gdf_hospital.to_crs(3857)\n",
        "gdf_aed = gpd.GeoDataFrame(df_aed, geometry=gpd.points_from_xy(df_aed.lon, df_aed.lat),crs=\"EPSG:4326\")\n",
        "gdf_aed = gdf_aed.to_crs(3857)\n",
        "\n",
        "sindex_hospital = gdf_hospital.sindex\n",
        "sindex_aed = gdf_aed.sindex\n",
        "\n",
        "driving_speed = 1000 # driving: 1km/min\n",
        "walking_speed = 100 # walking: 0.1km/min\n",
        "\n",
        "df_near = pd.DataFrame()\n",
        "df_far = pd.DataFrame()\n",
        "list_near = []\n",
        "list_far = []\n",
        "\n",
        "for i, row_intervention in tqdm(gdf_intervention.iterrows(), total=gdf_intervention.shape[0]):\n",
        "    is_near = False\n",
        "\n",
        "    possible_hospitals_index = list(sindex_hospital.nearest(row_intervention.geometry, return_all = True, max_distance=4 * driving_speed))\n",
        "    possible_hospitals_index = [item[0] if item.size else [] for item in possible_hospitals_index]\n",
        "    if not any(possible_hospitals_index):\n",
        "            possible_hospitals_index = []\n",
        "    possible_hospitals = gdf_hospital.iloc[possible_hospitals_index]\n",
        "    if not possible_hospitals.empty:\n",
        "      is_near = True\n",
        "\n",
        "    # possible_hospitals['Distance'] = possible_hospitals.apply(lambda row: distance(row_intervention.geometry.bounds[0:2], row.geometry.bounds[0:2]).km, axis=1)\n",
        "    # if not possible_hospitals[possible_hospitals['Distance'] <= 4 * driving_speed].empty:\n",
        "    #     is_near = True\n",
        "\n",
        "    if not is_near:\n",
        "        possible_aeds_index = list(sindex_aed.nearest(row_intervention.geometry, return_all = True, max_distance=2 * walking_speed))\n",
        "        # print(possible_aeds_index)\n",
        "        possible_aeds_index = [item[0] if item.size else [] for item in possible_aeds_index]\n",
        "        if not any(possible_aeds_index):\n",
        "            possible_aeds_index = []\n",
        "\n",
        "        possible_aeds = gdf_aed.iloc[possible_aeds_index]\n",
        "\n",
        "        if not possible_aeds.empty:\n",
        "          is_near = True\n",
        "\n",
        "        # 计算距离并检查是否有在2分钟内的aed\n",
        "        # if not possible_aeds.empty:\n",
        "        #     possible_aeds['Distance'] = possible_aeds.apply(lambda row: distance(row_intervention.geometry.bounds[0:2], row.geometry.bounds[0:2]).km, axis=1)\n",
        "        #     if not possible_aeds[possible_aeds['Distance'] <= 2 * walking_speed].empty:\n",
        "        #         is_near = True\n",
        "\n",
        "    if is_near:\n",
        "        df_near = df_near.append(df_intervention.loc[i])\n",
        "        list_near.append(i)\n",
        "    else:\n",
        "        df_far = df_far.append(df_intervention.loc[i])\n",
        "        list_far.append(i)\n",
        "\n",
        "print(len(df_near))\n",
        "print(len(df_far))"
      ]
    },
    {
      "cell_type": "code",
      "execution_count": 7,
      "metadata": {
        "colab": {
          "base_uri": "https://localhost:8080/"
        },
        "id": "gTNTvviuMI7Z",
        "outputId": "4bd8c74d-c61b-4199-e681-a91cfc5d7c90"
      },
      "outputs": [],
      "source": [
        "intervention_far = df1.iloc[list_far]\n",
        "intervention_far.to_csv('intervention_without_aed_hospital.csv', index=False)"
      ]
    },
    {
      "cell_type": "code",
      "execution_count": 8,
      "metadata": {
        "id": "3gYvEu1CMYgU"
      },
      "outputs": [],
      "source": [
        "intervention_near = df1.iloc[list_near]\n",
        "intervention_near.to_csv('intervention_within_aed_hospital.csv', index=False)"
      ]
    }
  ],
  "metadata": {
    "colab": {
      "provenance": []
    },
    "kernelspec": {
      "display_name": "Python 3",
      "name": "python3"
    },
    "language_info": {
      "codemirror_mode": {
        "name": "ipython",
        "version": 3
      },
      "file_extension": ".py",
      "mimetype": "text/x-python",
      "name": "python",
      "nbconvert_exporter": "python",
      "pygments_lexer": "ipython3",
      "version": "3.10.12"
    }
  },
  "nbformat": 4,
  "nbformat_minor": 0
}
