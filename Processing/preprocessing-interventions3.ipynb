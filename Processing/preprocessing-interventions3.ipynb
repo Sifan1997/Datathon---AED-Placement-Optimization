{
 "cells": [
  {
   "cell_type": "code",
   "execution_count": 1,
   "outputs": [
    {
     "name": "stderr",
     "output_type": "stream",
     "text": [
      "C:\\Users\\wenji\\AppData\\Local\\Temp\\ipykernel_25884\\2035458946.py:1: DeprecationWarning: \n",
      "Pyarrow will become a required dependency of pandas in the next major release of pandas (pandas 3.0),\n",
      "(to allow more performant data types, such as the Arrow string type, and better interoperability with other libraries)\n",
      "but was not found to be installed on your system.\n",
      "If this would cause problems for you,\n",
      "please provide us feedback at https://github.com/pandas-dev/pandas/issues/54466\n",
      "        \n",
      "  import pandas as pd\n"
     ]
    }
   ],
   "source": [
    "import pandas as pd"
   ],
   "metadata": {
    "collapsed": false,
    "ExecuteTime": {
     "end_time": "2024-02-17T10:22:54.147625600Z",
     "start_time": "2024-02-17T10:22:53.257680500Z"
    }
   },
   "id": "2037cc093312fc4"
  },
  {
   "cell_type": "markdown",
   "source": [
    "## Description\n",
    "'Mission ID' \n",
    "'Service Name'\n",
    "'PostalCode permanence'\n",
    "'CityName permanence'\n",
    "'StreetName permanence',\n",
    "'HouseNumber permanence'\n",
    "'Latitude permanence'\n",
    "'Longitude permanence',\n",
    "'Permanence short name'\n",
    "'Permanence long name'\n",
    "**'Vector type' - Type of intervention team, could be ambulance, PIT (Paramedisch Interventieteam, 辅助医疗干预小组, https://www.health.belgium.be/nl/pit-paramedical-intervention-team), MUG (Mobiele Urgentiegroep, 紧急移动小组, https://www.health.belgium.be/nl/mug#wat)\n",
    "'EventType Firstcall' - Type of emergency cases (need to select asystole/cardiac arrest related cases)\n",
    "'EventLevel Firstcall'\n",
    "'EventType Trip'\n",
    "'EventLevel Trip'**\n",
    "'PostalCode intervention'\n",
    "'CityName intervention',\n",
    "'Latitude intervention'\n",
    "'Longitude intervention',\n",
    "'Province intervention'\n",
    "**'T0' - Call answered by operator\n",
    "'T1' - Vector alarmed by operator\n",
    "'T1confirmed' \n",
    "'T2' - Vector leaves to intervention location\n",
    "'T3' - Vector arrives at intervention location\n",
    "'T4' - vector leaves to destination hospital\n",
    "'T5' - vetor arrives at destination hosptial \n",
    "'T6' - vector leaves at destination hosptial\n",
    "'T7' - vector available again**\n",
    "'T9'\n",
    "'Intervention time (T1Reported)'\n",
    "'Intervention time (T1Confirmed)'\n",
    "'Waiting time'\n",
    "'Intervention duration'\n",
    "'Departure time (T1Reported)'\n",
    "'Departure time (T1Confirmed)'\n",
    "'Unavailable time'\n",
    "'Name destination hospital'\n",
    "'PostalCode destination hospital'\n",
    "'CityName destination hospital'\n",
    "'StreetName destination hospital'\n",
    "'HouseNumber destination hospital'\n",
    "'Calculated travelTime destinatio'\n",
    "'Calculated Distance destination'\n",
    "'Number of transported persons'\n",
    "'Abandon reason'\n"
   ],
   "metadata": {
    "collapsed": false
   },
   "id": "5e40b269bd5cd4b"
  },
  {
   "cell_type": "code",
   "execution_count": 2,
   "outputs": [
    {
     "data": {
      "text/plain": "    Mission ID                        Service Name  PostalCode permanence  \\\n0  60230050009                 BG LIEG Croix Rouge                 4000.0   \n1  60230050010  FG PDS PEPI Vesdre Ho√´gne Plateau                 4860.0   \n2  60230050012                    BG LIEG Courtois                 4030.0   \n3  60230050013             FG PDS ANS_ Li√®ge IILE                 4000.0   \n4  60230050014             FG PDS FLEM Li√®ge IILE                 4400.0   \n\n           CityName permanence  StreetName permanence HouseNumber permanence  \\\n0              Li√®ge (Li√®ge)            Rue Darchis                   None   \n1        Pepinster (Pepinster)         Rue Jean Simon                   None   \n2          Li√®ge (Grivegn√©e)            Rue Belvaux                   None   \n3               li√®ge (glain)  p537;rue jean jaur√®s                   None   \n4  Fl√©malle (Fl√©malle-Haute)            Grand'Route                   None   \n\n   Latitude permanence  Longitude permanence Permanence short name  \\\n0            50.637357              5.566551             AGLIEG05A   \n1            50.565940              5.802540             AGPEPI01A   \n2            50.619828              5.602470             AGLIEG02A   \n3            50.652240              5.526410             AGANS_01A   \n4            50.599360              5.472130             AGFLEM01A   \n\n  Permanence long name  ... Unavailable time  Name destination hospital  \\\n0           CR LIEGE 2  ...              NaN                       None   \n1         ZS.PEPINST 1  ...              NaN    HG UR VERV CHR Tourelle   \n2            PR.COURT2  ...              NaN   HG UR LIEG CHC Montlegia   \n3             ZS ANS 1  ...              NaN                       None   \n4        ZS FLEMALLE 1  ...              NaN  HG UR SERA CH Bois Abbaye   \n\n  PostalCode destination hospital CityName destination hospital  \\\n0                            None                          None   \n1                            None           Verviers (Verviers)   \n2                            None                Li√®ge (Glain)   \n3                            None                          None   \n4                            None             Seraing (Seraing)   \n\n     StreetName destination hospital HouseNumber destination hospital  \\\n0                               None                             None   \n1                    Rue de la Marne                             None   \n2  Boulevard de Patience et Beaujonc                             None   \n3                               None                             None   \n4                        Rue Laplace                             None   \n\n  Calculated travelTime destinatio  Calculated Distance destination  \\\n0                              NaN                              NaN   \n1                            461.0                           7398.0   \n2                            232.0                           3952.0   \n3                              NaN                              NaN   \n4                            227.0                           2794.0   \n\n   Number of transported persons         Abandon reason  \n0                            NaN  Weigering van vervoer  \n1                            1.0                   None  \n2                            1.0                   None  \n3                            NaN   Verzorgd ter plaatse  \n4                            1.0                   None  \n\n[5 rows x 46 columns]",
      "text/html": "<div>\n<style scoped>\n    .dataframe tbody tr th:only-of-type {\n        vertical-align: middle;\n    }\n\n    .dataframe tbody tr th {\n        vertical-align: top;\n    }\n\n    .dataframe thead th {\n        text-align: right;\n    }\n</style>\n<table border=\"1\" class=\"dataframe\">\n  <thead>\n    <tr style=\"text-align: right;\">\n      <th></th>\n      <th>Mission ID</th>\n      <th>Service Name</th>\n      <th>PostalCode permanence</th>\n      <th>CityName permanence</th>\n      <th>StreetName permanence</th>\n      <th>HouseNumber permanence</th>\n      <th>Latitude permanence</th>\n      <th>Longitude permanence</th>\n      <th>Permanence short name</th>\n      <th>Permanence long name</th>\n      <th>...</th>\n      <th>Unavailable time</th>\n      <th>Name destination hospital</th>\n      <th>PostalCode destination hospital</th>\n      <th>CityName destination hospital</th>\n      <th>StreetName destination hospital</th>\n      <th>HouseNumber destination hospital</th>\n      <th>Calculated travelTime destinatio</th>\n      <th>Calculated Distance destination</th>\n      <th>Number of transported persons</th>\n      <th>Abandon reason</th>\n    </tr>\n  </thead>\n  <tbody>\n    <tr>\n      <th>0</th>\n      <td>60230050009</td>\n      <td>BG LIEG Croix Rouge</td>\n      <td>4000.0</td>\n      <td>Li√®ge (Li√®ge)</td>\n      <td>Rue Darchis</td>\n      <td>None</td>\n      <td>50.637357</td>\n      <td>5.566551</td>\n      <td>AGLIEG05A</td>\n      <td>CR LIEGE 2</td>\n      <td>...</td>\n      <td>NaN</td>\n      <td>None</td>\n      <td>None</td>\n      <td>None</td>\n      <td>None</td>\n      <td>None</td>\n      <td>NaN</td>\n      <td>NaN</td>\n      <td>NaN</td>\n      <td>Weigering van vervoer</td>\n    </tr>\n    <tr>\n      <th>1</th>\n      <td>60230050010</td>\n      <td>FG PDS PEPI Vesdre Ho√´gne Plateau</td>\n      <td>4860.0</td>\n      <td>Pepinster (Pepinster)</td>\n      <td>Rue Jean Simon</td>\n      <td>None</td>\n      <td>50.565940</td>\n      <td>5.802540</td>\n      <td>AGPEPI01A</td>\n      <td>ZS.PEPINST 1</td>\n      <td>...</td>\n      <td>NaN</td>\n      <td>HG UR VERV CHR Tourelle</td>\n      <td>None</td>\n      <td>Verviers (Verviers)</td>\n      <td>Rue de la Marne</td>\n      <td>None</td>\n      <td>461.0</td>\n      <td>7398.0</td>\n      <td>1.0</td>\n      <td>None</td>\n    </tr>\n    <tr>\n      <th>2</th>\n      <td>60230050012</td>\n      <td>BG LIEG Courtois</td>\n      <td>4030.0</td>\n      <td>Li√®ge (Grivegn√©e)</td>\n      <td>Rue Belvaux</td>\n      <td>None</td>\n      <td>50.619828</td>\n      <td>5.602470</td>\n      <td>AGLIEG02A</td>\n      <td>PR.COURT2</td>\n      <td>...</td>\n      <td>NaN</td>\n      <td>HG UR LIEG CHC Montlegia</td>\n      <td>None</td>\n      <td>Li√®ge (Glain)</td>\n      <td>Boulevard de Patience et Beaujonc</td>\n      <td>None</td>\n      <td>232.0</td>\n      <td>3952.0</td>\n      <td>1.0</td>\n      <td>None</td>\n    </tr>\n    <tr>\n      <th>3</th>\n      <td>60230050013</td>\n      <td>FG PDS ANS_ Li√®ge IILE</td>\n      <td>4000.0</td>\n      <td>li√®ge (glain)</td>\n      <td>p537;rue jean jaur√®s</td>\n      <td>None</td>\n      <td>50.652240</td>\n      <td>5.526410</td>\n      <td>AGANS_01A</td>\n      <td>ZS ANS 1</td>\n      <td>...</td>\n      <td>NaN</td>\n      <td>None</td>\n      <td>None</td>\n      <td>None</td>\n      <td>None</td>\n      <td>None</td>\n      <td>NaN</td>\n      <td>NaN</td>\n      <td>NaN</td>\n      <td>Verzorgd ter plaatse</td>\n    </tr>\n    <tr>\n      <th>4</th>\n      <td>60230050014</td>\n      <td>FG PDS FLEM Li√®ge IILE</td>\n      <td>4400.0</td>\n      <td>Fl√©malle (Fl√©malle-Haute)</td>\n      <td>Grand'Route</td>\n      <td>None</td>\n      <td>50.599360</td>\n      <td>5.472130</td>\n      <td>AGFLEM01A</td>\n      <td>ZS FLEMALLE 1</td>\n      <td>...</td>\n      <td>NaN</td>\n      <td>HG UR SERA CH Bois Abbaye</td>\n      <td>None</td>\n      <td>Seraing (Seraing)</td>\n      <td>Rue Laplace</td>\n      <td>None</td>\n      <td>227.0</td>\n      <td>2794.0</td>\n      <td>1.0</td>\n      <td>None</td>\n    </tr>\n  </tbody>\n</table>\n<p>5 rows × 46 columns</p>\n</div>"
     },
     "execution_count": 2,
     "metadata": {},
     "output_type": "execute_result"
    }
   ],
   "source": [
    "interventions3 = pd.read_parquet('D:\\py_projects\\Datathon-AED\\Data2024\\interventions3.parquet')\n",
    "interventions3.head()"
   ],
   "metadata": {
    "collapsed": false,
    "ExecuteTime": {
     "end_time": "2024-02-17T10:23:04.699907Z",
     "start_time": "2024-02-17T10:23:03.643096700Z"
    }
   },
   "id": "2f9fed160cf22715"
  },
  {
   "cell_type": "code",
   "execution_count": 16,
   "outputs": [
    {
     "data": {
      "text/plain": "    Mission ID                        Service Name  PostalCode permanence  \\\n1  60230050010  FG PDS PEPI Vesdre Ho√´gne Plateau                 4860.0   \n2  60230050012                    BG LIEG Courtois                 4030.0   \n4  60230050014             FG PDS FLEM Li√®ge IILE                 4400.0   \n5  60230050017                      FG PDS EUPE DG                 4700.0   \n6  60230050018   FG PDS LIEG [Caserne] Li√®ge IILE                 4020.0   \n\n           CityName permanence StreetName permanence HouseNumber permanence  \\\n1        Pepinster (Pepinster)        Rue Jean Simon                   None   \n2          Li√®ge (Grivegn√©e)           Rue Belvaux                   None   \n4  Fl√©malle (Fl√©malle-Haute)           Grand'Route                   None   \n5                Eupen (Eupen)               Kehrweg                     9C   \n6              Li√®ge (Li√®ge)         Rue Ransonnet                   None   \n\n   Latitude permanence  Longitude permanence Permanence short name  \\\n1            50.565940               5.80254             AGPEPI01A   \n2            50.619828               5.60247             AGLIEG02A   \n4            50.599360               5.47213             AGFLEM01A   \n5            50.625980               6.04423             AGEUPE01A   \n6            50.644510               5.58660             AGLIEG06A   \n\n  Permanence long name  ... Unavailable time  Name destination hospital  \\\n1         ZS.PEPINST 1  ...              NaN    HG UR VERV CHR Tourelle   \n2            PR.COURT2  ...              NaN   HG UR LIEG CHC Montlegia   \n4        ZS FLEMALLE 1  ...              NaN  HG UR SERA CH Bois Abbaye   \n5            ZS.EUPEN1  ...              NaN     HG UR EUPE St Nikolaus   \n6           ZS LIEGE 6  ...              NaN   HG UR LIEG CHR Citadelle   \n\n  PostalCode destination hospital CityName destination hospital  \\\n1                            None           Verviers (Verviers)   \n2                            None                Li√®ge (Glain)   \n4                            None             Seraing (Seraing)   \n5                            None                 Eupen (Eupen)   \n6                            None               Li√®ge (Li√®ge)   \n\n     StreetName destination hospital HouseNumber destination hospital  \\\n1                    Rue de la Marne                             None   \n2  Boulevard de Patience et Beaujonc                             None   \n4                        Rue Laplace                             None   \n5                         Hufengasse                             None   \n6       Boulevard du 12√®me de Ligne                             None   \n\n  Calculated travelTime destinatio  Calculated Distance destination  \\\n1                            461.0                           7398.0   \n2                            232.0                           3952.0   \n4                            227.0                           2794.0   \n5                            252.0                           4423.0   \n6                            268.0                           2958.0   \n\n   Number of transported persons Abandon reason  \n1                            1.0           None  \n2                            1.0           None  \n4                            1.0           None  \n5                            1.0           None  \n6                            1.0           None  \n\n[5 rows x 46 columns]",
      "text/html": "<div>\n<style scoped>\n    .dataframe tbody tr th:only-of-type {\n        vertical-align: middle;\n    }\n\n    .dataframe tbody tr th {\n        vertical-align: top;\n    }\n\n    .dataframe thead th {\n        text-align: right;\n    }\n</style>\n<table border=\"1\" class=\"dataframe\">\n  <thead>\n    <tr style=\"text-align: right;\">\n      <th></th>\n      <th>Mission ID</th>\n      <th>Service Name</th>\n      <th>PostalCode permanence</th>\n      <th>CityName permanence</th>\n      <th>StreetName permanence</th>\n      <th>HouseNumber permanence</th>\n      <th>Latitude permanence</th>\n      <th>Longitude permanence</th>\n      <th>Permanence short name</th>\n      <th>Permanence long name</th>\n      <th>...</th>\n      <th>Unavailable time</th>\n      <th>Name destination hospital</th>\n      <th>PostalCode destination hospital</th>\n      <th>CityName destination hospital</th>\n      <th>StreetName destination hospital</th>\n      <th>HouseNumber destination hospital</th>\n      <th>Calculated travelTime destinatio</th>\n      <th>Calculated Distance destination</th>\n      <th>Number of transported persons</th>\n      <th>Abandon reason</th>\n    </tr>\n  </thead>\n  <tbody>\n    <tr>\n      <th>1</th>\n      <td>60230050010</td>\n      <td>FG PDS PEPI Vesdre Ho√´gne Plateau</td>\n      <td>4860.0</td>\n      <td>Pepinster (Pepinster)</td>\n      <td>Rue Jean Simon</td>\n      <td>None</td>\n      <td>50.565940</td>\n      <td>5.80254</td>\n      <td>AGPEPI01A</td>\n      <td>ZS.PEPINST 1</td>\n      <td>...</td>\n      <td>NaN</td>\n      <td>HG UR VERV CHR Tourelle</td>\n      <td>None</td>\n      <td>Verviers (Verviers)</td>\n      <td>Rue de la Marne</td>\n      <td>None</td>\n      <td>461.0</td>\n      <td>7398.0</td>\n      <td>1.0</td>\n      <td>None</td>\n    </tr>\n    <tr>\n      <th>2</th>\n      <td>60230050012</td>\n      <td>BG LIEG Courtois</td>\n      <td>4030.0</td>\n      <td>Li√®ge (Grivegn√©e)</td>\n      <td>Rue Belvaux</td>\n      <td>None</td>\n      <td>50.619828</td>\n      <td>5.60247</td>\n      <td>AGLIEG02A</td>\n      <td>PR.COURT2</td>\n      <td>...</td>\n      <td>NaN</td>\n      <td>HG UR LIEG CHC Montlegia</td>\n      <td>None</td>\n      <td>Li√®ge (Glain)</td>\n      <td>Boulevard de Patience et Beaujonc</td>\n      <td>None</td>\n      <td>232.0</td>\n      <td>3952.0</td>\n      <td>1.0</td>\n      <td>None</td>\n    </tr>\n    <tr>\n      <th>4</th>\n      <td>60230050014</td>\n      <td>FG PDS FLEM Li√®ge IILE</td>\n      <td>4400.0</td>\n      <td>Fl√©malle (Fl√©malle-Haute)</td>\n      <td>Grand'Route</td>\n      <td>None</td>\n      <td>50.599360</td>\n      <td>5.47213</td>\n      <td>AGFLEM01A</td>\n      <td>ZS FLEMALLE 1</td>\n      <td>...</td>\n      <td>NaN</td>\n      <td>HG UR SERA CH Bois Abbaye</td>\n      <td>None</td>\n      <td>Seraing (Seraing)</td>\n      <td>Rue Laplace</td>\n      <td>None</td>\n      <td>227.0</td>\n      <td>2794.0</td>\n      <td>1.0</td>\n      <td>None</td>\n    </tr>\n    <tr>\n      <th>5</th>\n      <td>60230050017</td>\n      <td>FG PDS EUPE DG</td>\n      <td>4700.0</td>\n      <td>Eupen (Eupen)</td>\n      <td>Kehrweg</td>\n      <td>9C</td>\n      <td>50.625980</td>\n      <td>6.04423</td>\n      <td>AGEUPE01A</td>\n      <td>ZS.EUPEN1</td>\n      <td>...</td>\n      <td>NaN</td>\n      <td>HG UR EUPE St Nikolaus</td>\n      <td>None</td>\n      <td>Eupen (Eupen)</td>\n      <td>Hufengasse</td>\n      <td>None</td>\n      <td>252.0</td>\n      <td>4423.0</td>\n      <td>1.0</td>\n      <td>None</td>\n    </tr>\n    <tr>\n      <th>6</th>\n      <td>60230050018</td>\n      <td>FG PDS LIEG [Caserne] Li√®ge IILE</td>\n      <td>4020.0</td>\n      <td>Li√®ge (Li√®ge)</td>\n      <td>Rue Ransonnet</td>\n      <td>None</td>\n      <td>50.644510</td>\n      <td>5.58660</td>\n      <td>AGLIEG06A</td>\n      <td>ZS LIEGE 6</td>\n      <td>...</td>\n      <td>NaN</td>\n      <td>HG UR LIEG CHR Citadelle</td>\n      <td>None</td>\n      <td>Li√®ge (Li√®ge)</td>\n      <td>Boulevard du 12√®me de Ligne</td>\n      <td>None</td>\n      <td>268.0</td>\n      <td>2958.0</td>\n      <td>1.0</td>\n      <td>None</td>\n    </tr>\n  </tbody>\n</table>\n<p>5 rows × 46 columns</p>\n</div>"
     },
     "execution_count": 16,
     "metadata": {},
     "output_type": "execute_result"
    }
   ],
   "source": [
    "#Drop unsuccessful intervention records (abandoned interventions)\n",
    "interventions3 = interventions3[pd.isna(interventions3['Abandon reason'])]\n",
    "interventions3.head()"
   ],
   "metadata": {
    "collapsed": false,
    "ExecuteTime": {
     "end_time": "2024-02-16T13:56:15.595832300Z",
     "start_time": "2024-02-16T13:56:15.485891900Z"
    }
   },
   "id": "1a9f419450634593"
  },
  {
   "cell_type": "code",
   "execution_count": 20,
   "outputs": [
    {
     "data": {
      "text/plain": "         Mission ID                        Service Name  \\\n1       60230050010  FG PDS PEPI Vesdre Ho√´gne Plateau   \n2       60230050012                    BG LIEG Courtois   \n4       60230050014             FG PDS FLEM Li√®ge IILE   \n5       60230050017                      FG PDS EUPE DG   \n6       60230050018   FG PDS LIEG [Caserne] Li√®ge IILE   \n...             ...                                 ...   \n191281  90230900233                    FN PDS NAMU NAGE   \n191282  90230900233               HN UR NAMU CHR | SMUR   \n191285  90230900237                 FN PDS DINA DINAPHI   \n191287  90230910001                 FN PDS CINE DINAPHI   \n191288  90230910001                      HN UR DINA CHU   \n\n        PostalCode permanence          CityName permanence  \\\n1                      4860.0        Pepinster (Pepinster)   \n2                      4030.0          Li√®ge (Grivegn√©e)   \n4                      4400.0  Fl√©malle (Fl√©malle-Haute)   \n5                      4700.0                Eupen (Eupen)   \n6                      4020.0              Li√®ge (Li√®ge)   \n...                       ...                          ...   \n191281                 5100.0               Namur (Jambes)   \n191282                 5000.0                Namur (Namur)   \n191285                 5500.0              Dinant (Dinant)   \n191287                 5590.0                Ciney (Ciney)   \n191288                 5500.0              Dinant (Dinant)   \n\n         StreetName permanence HouseNumber permanence  Latitude permanence  \\\n1               Rue Jean Simon                   None            50.565940   \n2                  Rue Belvaux                   None            50.619828   \n4                  Grand'Route                   None            50.599360   \n5                      Kehrweg                     9C            50.625980   \n6                Rue Ransonnet                   None            50.644510   \n...                        ...                    ...                  ...   \n191281     Chauss√©e de Li√®ge                  55/57            50.456210   \n191282       Avenue Albert 1er                   None            50.466860   \n191285    Rue de Philippeville                   None            50.253630   \n191287  Rue du March√© Couvert                   None            50.308520   \n191288       Rue Saint-Jacques                   None            50.265220   \n\n        Longitude permanence Permanence short name Permanence long name  ...  \\\n1                    5.80254             AGPEPI01A         ZS.PEPINST 1  ...   \n2                    5.60247             AGLIEG02A            PR.COURT2  ...   \n4                    5.47213             AGFLEM01A        ZS FLEMALLE 1  ...   \n5                    6.04423             AGEUPE01A            ZS.EUPEN1  ...   \n6                    5.58660             AGLIEG06A           ZS LIEGE 6  ...   \n...                      ...                   ...                  ...  ...   \n191281               4.88008             ANNAMU01A           ZS NAMUR 1  ...   \n191282               4.88765             UNNAMU01A         SMUR NAMUR 1  ...   \n191285               4.89808             ANDINA01A          ZS DINANT 1  ...   \n191287               5.11713             ANCINE01A           ZS CINEY 1  ...   \n191288               4.94732             UNDINA01A        SMUR DINANT 1  ...   \n\n       Unavailable time  Name destination hospital  \\\n1                   NaN    HG UR VERV CHR Tourelle   \n2                   NaN   HG UR LIEG CHC Montlegia   \n4                   NaN  HG UR SERA CH Bois Abbaye   \n5                   NaN     HG UR EUPE St Nikolaus   \n6                   NaN   HG UR LIEG CHR Citadelle   \n...                 ...                        ...   \n191281              NaN             HN UR NAMU CHR   \n191282              NaN                       None   \n191285              NaN             HN UR DINA CHU   \n191287              NaN             HN UR DINA CHU   \n191288              NaN                       None   \n\n       PostalCode destination hospital CityName destination hospital  \\\n1                                 None           Verviers (Verviers)   \n2                                 None                Li√®ge (Glain)   \n4                                 None             Seraing (Seraing)   \n5                                 None                 Eupen (Eupen)   \n6                                 None               Li√®ge (Li√®ge)   \n...                                ...                           ...   \n191281                            None                 Namur (Namur)   \n191282                            None                          None   \n191285                            None               Dinant (Dinant)   \n191287                            None               Dinant (Dinant)   \n191288                            None                          None   \n\n          StreetName destination hospital HouseNumber destination hospital  \\\n1                         Rue de la Marne                             None   \n2       Boulevard de Patience et Beaujonc                             None   \n4                             Rue Laplace                             None   \n5                              Hufengasse                             None   \n6            Boulevard du 12√®me de Ligne                             None   \n...                                   ...                              ...   \n191281                  Avenue Albert 1er                             None   \n191282                               None                             None   \n191285                  Rue Saint-Jacques                             None   \n191287                  Rue Saint-Jacques                             None   \n191288                               None                             None   \n\n       Calculated travelTime destinatio  Calculated Distance destination  \\\n1                                 461.0                           7398.0   \n2                                 232.0                           3952.0   \n4                                 227.0                           2794.0   \n5                                 252.0                           4423.0   \n6                                 268.0                           2958.0   \n...                                 ...                              ...   \n191281                            242.0                           3407.0   \n191282                              NaN                              NaN   \n191285                            311.0                           5040.0   \n191287                            756.0                          14730.0   \n191288                              NaN                              NaN   \n\n        Number of transported persons Abandon reason  \n1                                 1.0           None  \n2                                 1.0           None  \n4                                 1.0           None  \n5                                 1.0           None  \n6                                 1.0           None  \n...                               ...            ...  \n191281                            1.0           None  \n191282                            NaN           None  \n191285                            1.0           None  \n191287                            1.0           None  \n191288                            NaN           None  \n\n[127783 rows x 46 columns]",
      "text/html": "<div>\n<style scoped>\n    .dataframe tbody tr th:only-of-type {\n        vertical-align: middle;\n    }\n\n    .dataframe tbody tr th {\n        vertical-align: top;\n    }\n\n    .dataframe thead th {\n        text-align: right;\n    }\n</style>\n<table border=\"1\" class=\"dataframe\">\n  <thead>\n    <tr style=\"text-align: right;\">\n      <th></th>\n      <th>Mission ID</th>\n      <th>Service Name</th>\n      <th>PostalCode permanence</th>\n      <th>CityName permanence</th>\n      <th>StreetName permanence</th>\n      <th>HouseNumber permanence</th>\n      <th>Latitude permanence</th>\n      <th>Longitude permanence</th>\n      <th>Permanence short name</th>\n      <th>Permanence long name</th>\n      <th>...</th>\n      <th>Unavailable time</th>\n      <th>Name destination hospital</th>\n      <th>PostalCode destination hospital</th>\n      <th>CityName destination hospital</th>\n      <th>StreetName destination hospital</th>\n      <th>HouseNumber destination hospital</th>\n      <th>Calculated travelTime destinatio</th>\n      <th>Calculated Distance destination</th>\n      <th>Number of transported persons</th>\n      <th>Abandon reason</th>\n    </tr>\n  </thead>\n  <tbody>\n    <tr>\n      <th>1</th>\n      <td>60230050010</td>\n      <td>FG PDS PEPI Vesdre Ho√´gne Plateau</td>\n      <td>4860.0</td>\n      <td>Pepinster (Pepinster)</td>\n      <td>Rue Jean Simon</td>\n      <td>None</td>\n      <td>50.565940</td>\n      <td>5.80254</td>\n      <td>AGPEPI01A</td>\n      <td>ZS.PEPINST 1</td>\n      <td>...</td>\n      <td>NaN</td>\n      <td>HG UR VERV CHR Tourelle</td>\n      <td>None</td>\n      <td>Verviers (Verviers)</td>\n      <td>Rue de la Marne</td>\n      <td>None</td>\n      <td>461.0</td>\n      <td>7398.0</td>\n      <td>1.0</td>\n      <td>None</td>\n    </tr>\n    <tr>\n      <th>2</th>\n      <td>60230050012</td>\n      <td>BG LIEG Courtois</td>\n      <td>4030.0</td>\n      <td>Li√®ge (Grivegn√©e)</td>\n      <td>Rue Belvaux</td>\n      <td>None</td>\n      <td>50.619828</td>\n      <td>5.60247</td>\n      <td>AGLIEG02A</td>\n      <td>PR.COURT2</td>\n      <td>...</td>\n      <td>NaN</td>\n      <td>HG UR LIEG CHC Montlegia</td>\n      <td>None</td>\n      <td>Li√®ge (Glain)</td>\n      <td>Boulevard de Patience et Beaujonc</td>\n      <td>None</td>\n      <td>232.0</td>\n      <td>3952.0</td>\n      <td>1.0</td>\n      <td>None</td>\n    </tr>\n    <tr>\n      <th>4</th>\n      <td>60230050014</td>\n      <td>FG PDS FLEM Li√®ge IILE</td>\n      <td>4400.0</td>\n      <td>Fl√©malle (Fl√©malle-Haute)</td>\n      <td>Grand'Route</td>\n      <td>None</td>\n      <td>50.599360</td>\n      <td>5.47213</td>\n      <td>AGFLEM01A</td>\n      <td>ZS FLEMALLE 1</td>\n      <td>...</td>\n      <td>NaN</td>\n      <td>HG UR SERA CH Bois Abbaye</td>\n      <td>None</td>\n      <td>Seraing (Seraing)</td>\n      <td>Rue Laplace</td>\n      <td>None</td>\n      <td>227.0</td>\n      <td>2794.0</td>\n      <td>1.0</td>\n      <td>None</td>\n    </tr>\n    <tr>\n      <th>5</th>\n      <td>60230050017</td>\n      <td>FG PDS EUPE DG</td>\n      <td>4700.0</td>\n      <td>Eupen (Eupen)</td>\n      <td>Kehrweg</td>\n      <td>9C</td>\n      <td>50.625980</td>\n      <td>6.04423</td>\n      <td>AGEUPE01A</td>\n      <td>ZS.EUPEN1</td>\n      <td>...</td>\n      <td>NaN</td>\n      <td>HG UR EUPE St Nikolaus</td>\n      <td>None</td>\n      <td>Eupen (Eupen)</td>\n      <td>Hufengasse</td>\n      <td>None</td>\n      <td>252.0</td>\n      <td>4423.0</td>\n      <td>1.0</td>\n      <td>None</td>\n    </tr>\n    <tr>\n      <th>6</th>\n      <td>60230050018</td>\n      <td>FG PDS LIEG [Caserne] Li√®ge IILE</td>\n      <td>4020.0</td>\n      <td>Li√®ge (Li√®ge)</td>\n      <td>Rue Ransonnet</td>\n      <td>None</td>\n      <td>50.644510</td>\n      <td>5.58660</td>\n      <td>AGLIEG06A</td>\n      <td>ZS LIEGE 6</td>\n      <td>...</td>\n      <td>NaN</td>\n      <td>HG UR LIEG CHR Citadelle</td>\n      <td>None</td>\n      <td>Li√®ge (Li√®ge)</td>\n      <td>Boulevard du 12√®me de Ligne</td>\n      <td>None</td>\n      <td>268.0</td>\n      <td>2958.0</td>\n      <td>1.0</td>\n      <td>None</td>\n    </tr>\n    <tr>\n      <th>...</th>\n      <td>...</td>\n      <td>...</td>\n      <td>...</td>\n      <td>...</td>\n      <td>...</td>\n      <td>...</td>\n      <td>...</td>\n      <td>...</td>\n      <td>...</td>\n      <td>...</td>\n      <td>...</td>\n      <td>...</td>\n      <td>...</td>\n      <td>...</td>\n      <td>...</td>\n      <td>...</td>\n      <td>...</td>\n      <td>...</td>\n      <td>...</td>\n      <td>...</td>\n      <td>...</td>\n    </tr>\n    <tr>\n      <th>191281</th>\n      <td>90230900233</td>\n      <td>FN PDS NAMU NAGE</td>\n      <td>5100.0</td>\n      <td>Namur (Jambes)</td>\n      <td>Chauss√©e de Li√®ge</td>\n      <td>55/57</td>\n      <td>50.456210</td>\n      <td>4.88008</td>\n      <td>ANNAMU01A</td>\n      <td>ZS NAMUR 1</td>\n      <td>...</td>\n      <td>NaN</td>\n      <td>HN UR NAMU CHR</td>\n      <td>None</td>\n      <td>Namur (Namur)</td>\n      <td>Avenue Albert 1er</td>\n      <td>None</td>\n      <td>242.0</td>\n      <td>3407.0</td>\n      <td>1.0</td>\n      <td>None</td>\n    </tr>\n    <tr>\n      <th>191282</th>\n      <td>90230900233</td>\n      <td>HN UR NAMU CHR | SMUR</td>\n      <td>5000.0</td>\n      <td>Namur (Namur)</td>\n      <td>Avenue Albert 1er</td>\n      <td>None</td>\n      <td>50.466860</td>\n      <td>4.88765</td>\n      <td>UNNAMU01A</td>\n      <td>SMUR NAMUR 1</td>\n      <td>...</td>\n      <td>NaN</td>\n      <td>None</td>\n      <td>None</td>\n      <td>None</td>\n      <td>None</td>\n      <td>None</td>\n      <td>NaN</td>\n      <td>NaN</td>\n      <td>NaN</td>\n      <td>None</td>\n    </tr>\n    <tr>\n      <th>191285</th>\n      <td>90230900237</td>\n      <td>FN PDS DINA DINAPHI</td>\n      <td>5500.0</td>\n      <td>Dinant (Dinant)</td>\n      <td>Rue de Philippeville</td>\n      <td>None</td>\n      <td>50.253630</td>\n      <td>4.89808</td>\n      <td>ANDINA01A</td>\n      <td>ZS DINANT 1</td>\n      <td>...</td>\n      <td>NaN</td>\n      <td>HN UR DINA CHU</td>\n      <td>None</td>\n      <td>Dinant (Dinant)</td>\n      <td>Rue Saint-Jacques</td>\n      <td>None</td>\n      <td>311.0</td>\n      <td>5040.0</td>\n      <td>1.0</td>\n      <td>None</td>\n    </tr>\n    <tr>\n      <th>191287</th>\n      <td>90230910001</td>\n      <td>FN PDS CINE DINAPHI</td>\n      <td>5590.0</td>\n      <td>Ciney (Ciney)</td>\n      <td>Rue du March√© Couvert</td>\n      <td>None</td>\n      <td>50.308520</td>\n      <td>5.11713</td>\n      <td>ANCINE01A</td>\n      <td>ZS CINEY 1</td>\n      <td>...</td>\n      <td>NaN</td>\n      <td>HN UR DINA CHU</td>\n      <td>None</td>\n      <td>Dinant (Dinant)</td>\n      <td>Rue Saint-Jacques</td>\n      <td>None</td>\n      <td>756.0</td>\n      <td>14730.0</td>\n      <td>1.0</td>\n      <td>None</td>\n    </tr>\n    <tr>\n      <th>191288</th>\n      <td>90230910001</td>\n      <td>HN UR DINA CHU</td>\n      <td>5500.0</td>\n      <td>Dinant (Dinant)</td>\n      <td>Rue Saint-Jacques</td>\n      <td>None</td>\n      <td>50.265220</td>\n      <td>4.94732</td>\n      <td>UNDINA01A</td>\n      <td>SMUR DINANT 1</td>\n      <td>...</td>\n      <td>NaN</td>\n      <td>None</td>\n      <td>None</td>\n      <td>None</td>\n      <td>None</td>\n      <td>None</td>\n      <td>NaN</td>\n      <td>NaN</td>\n      <td>NaN</td>\n      <td>None</td>\n    </tr>\n  </tbody>\n</table>\n<p>127783 rows × 46 columns</p>\n</div>"
     },
     "execution_count": 20,
     "metadata": {},
     "output_type": "execute_result"
    }
   ],
   "source": [
    "#Drop records with missing T3 \n",
    "interventions3 = interventions3[pd.isna(interventions3['T3'])==False]\n",
    "interventions3\n"
   ],
   "metadata": {
    "collapsed": false,
    "ExecuteTime": {
     "end_time": "2024-02-16T14:17:25.633049Z",
     "start_time": "2024-02-16T14:17:25.435647800Z"
    }
   },
   "id": "339b77d45f03d03f"
  },
  {
   "cell_type": "code",
   "execution_count": 27,
   "outputs": [
    {
     "data": {
      "text/plain": "['P067 - Social problem',\n 'P026 - Unclear problem',\n 'P031 - Psychiatric problem',\n 'P034 - Skull trauma',\n 'P066 - Post-operative problem',\n 'P013 - Non-traumatic back pain',\n 'P020 - Intoxication alcohol',\n 'P011 - Chest pain',\n 'P005 - Wounded by weapon',\n 'P010 - Respiratory problems',\n 'P002 - Agression - fight - rape',\n 'P033 - Trauma',\n 'P019 - Unconscious - syncope',\n 'P059 - Dizziness - Nausea',\n 'P001 - Traffic accident',\n 'P017 - Non-traumatic bleeding',\n 'P075 - Cancer patient',\n 'P022 - Intoxication medication',\n 'P061 - Limb hot or cold',\n 'P012 - Non-traumatic abdominal pain',\n 'P039 - Cardiac problem (other than thoracic pain)',\n 'P025 - Non-traumatic headache',\n 'P080 - COVID-19',\n 'P018 - Long-term immobilisation - crushing of body and limbs',\n 'P016 - Pregnancy - Birth',\n 'P004 - Stroke',\n 'P099 - Interhospital transport',\n 'P003 - Cardiac arrest',\n 'P015 - Epilepsy - convulsions',\n 'P098 - Collocation (unplanned)',\n 'P009 - Diabetes',\n 'P069 - Wounds',\n 'P068 - Urogenital problem',\n 'P029 - Obstruction of the respiratory tract',\n 'P073 - Sick child < 15 years with respiratory infection',\n 'FI (1.3.0) fire building',\n 'P072 - Sick child < 15 years with fever',\n 'P071 - Sick child < 15 years with abdominal pain',\n 'P014 - Electrocution - electrification',\n 'P007 - Fall from great height (> 3 meters)',\n 'P027 - Animal bite',\n 'P032 - Allergic reactions',\n 'P021 - Intoxication drugs',\n 'P074 - Palliative patient',\n 'P035 - Convulsions child < 7 years old',\n 'P006 - Burns',\n 'P064 - Nose-throat-ear and dental problem',\n 'TI (3.4.0) water rescue',\n 'P060 - Skin problem',\n 'P008 - Patient with defibrillator - pacemaker',\n 'P063 - Eye problems',\n 'Police (Alert)',\n 'P030 - Hanging and strangulation',\n 'P090 - Test MED',\n 'TI (3.1.2) free trapped person urgent',\n 'P097 - Collocation (planned)',\n 'P038 - Person does not answer the call',\n 'P023 - Intoxication (household, agricultural, industrial)',\n 'P028 - Drowning - diving accident',\n 'HG (2.7.0) hazardous goods incident',\n 'P070 - Sick baby < 3 months',\n 'LO (5.5.17) reinforcement safety precautions',\n 'FI (1.8.0) fire building chimney',\n 'TI (3.3.3) rescue from danger to fall/jump - hard',\n 'TI (3.5.1) risk of building collapse',\n 'TI (3.3.4) rescue from danger to fall/jump - water',\n 'Police (Prio)',\n 'P024 - CO intoxication',\n 'TI (3.1.3) extrication trapped person',\n 'TI (3.2.0) extrication from vehicle',\n 'P065 - Sudden deafness or ringing in the ears',\n 'HG (2.5.0) annoying odours',\n 'FI (1.5.0) fire odour/check',\n 'HG (2.1.2) gas leak',\n 'HG (2.1.1) gas odour',\n 'SI (4.6.1) train/tram accident',\n 'P036 - Heat stroke - solar stroke',\n 'TI (3.9.0) water problems/pumping',\n 'HG (2.3.0) explosion',\n 'TI (3.10.0) clean up road',\n 'FI (1.2.1) fire outdoor small',\n 'FI (1.6.2) fire grass/forest/brush expanded',\n 'FI (1.9.1) fire vehicle small',\n 'TI (3.1.4) height/depth rescue',\n 'P095 - Preventive ambulance',\n 'Notification (9.3.0)',\n 'FI (1.7.0) fire industry',\n 'P091 - MIP pre-alert',\n 'TI (3.3.5) hanging rescue',\n 'TI (3.1.5) rescue under debris',\n 'TI (3.4.1) dredging/hauling/floating',\n 'HG (2.4.0) CO measurement',\n 'TI (3.1.1) free trapped person lift',\n 'FI (1.1.0) automatic fire alarm',\n 'TI (3.5.3) risk of element collapse high height',\n 'TI (3.3.2) CO intoxication',\n 'Police (Info)',\n 'HG (2.2.0) explosion risk',\n 'LO (5.0.0) general',\n 'DP (0.1.6) Operational coordination',\n None,\n 'TI (3.0.0) general',\n 'FI (1.3.1) fire high voltage',\n 'AD (0.2.0) Activation defibrilator',\n 'P077 - Requisition police alcohol drugs',\n 'LO (5.1.3) assistance ambulance helicopter',\n 'P076 - Communication with medical guard / doctor',\n 'TI (3.7.1) wasps',\n 'FI (1.0.0) fire general',\n 'FI (1.9.2) fire vehicle large',\n 'LO (5.5.7) reinforcement GRIMP/REDteam',\n 'FI (1.2.2) fire outdoor large',\n 'FI (1.6.1) fire grass/forest/brush restricted',\n 'SI (4.1.2) bomb threat/suspicious package without departure',\n 'FI (1.10.0) fire ship']"
     },
     "execution_count": 27,
     "metadata": {},
     "output_type": "execute_result"
    }
   ],
   "source": [
    "interventions3['EventType Firstcall'].unique().tolist()"
   ],
   "metadata": {
    "collapsed": false,
    "ExecuteTime": {
     "end_time": "2024-02-16T14:40:46.474877400Z",
     "start_time": "2024-02-16T14:40:46.443425Z"
    }
   },
   "id": "19e0e33f9b556343"
  },
  {
   "cell_type": "code",
   "execution_count": 29,
   "outputs": [],
   "source": [
    "#Drop records irrelevant to sudden cardiac arrest situations\n",
    "cardiac_related_event = ['P026 - Unclear problem',\n",
    "                         'P011 - Chest pain',\n",
    "                         'P019 - Unconscious - syncope',\n",
    "                         'P039 - Cardiac problem (other than thoracic pain)',\n",
    "                         'P003 - Cardiac arrest',\n",
    "                         'P008 - Patient with defibrillator - pacemaker']\n",
    "\n",
    "interventions3 = interventions3[interventions3['EventType Firstcall'].isin(cardiac_related_event)]\n"
   ],
   "metadata": {
    "collapsed": false,
    "ExecuteTime": {
     "end_time": "2024-02-16T15:01:33.280246600Z",
     "start_time": "2024-02-16T15:01:33.240619900Z"
    }
   },
   "id": "66cc161aa57bb04d"
  },
  {
   "cell_type": "code",
   "execution_count": 23,
   "outputs": [
    {
     "data": {
      "text/plain": "1        0 days 00:07:54.947000\n2        0 days 00:10:31.018000\n4        0 days 00:12:45.586000\n5        0 days 00:08:12.418000\n6        0 days 00:07:51.393000\n                  ...          \n191281   0 days 00:09:46.625000\n191282   0 days 00:09:39.655000\n191285   0 days 00:08:16.975000\n191287   0 days 00:06:24.413000\n191288   0 days 00:13:19.476000\nLength: 127783, dtype: timedelta64[ns]"
     },
     "execution_count": 23,
     "metadata": {},
     "output_type": "execute_result"
    }
   ],
   "source": [
    "pd.to_datetime(interventions3['T3'])-pd.to_datetime(interventions3['T0'],format=\"%d%b%y:%H:%M:%S\")"
   ],
   "metadata": {
    "collapsed": false,
    "ExecuteTime": {
     "end_time": "2024-02-16T14:24:54.434761300Z",
     "start_time": "2024-02-16T14:24:53.993364700Z"
    }
   },
   "id": "1cf7143ca3b2ac91"
  },
  {
   "cell_type": "code",
   "execution_count": 22,
   "outputs": [
    {
     "data": {
      "text/plain": "1   2023-01-05 01:23:23.545\n2   2023-01-05 01:38:03.175\n4   2023-01-05 01:48:05.281\n5   2023-01-05 02:33:34.708\n6   2023-01-05 02:41:27.536\nName: T1confirmed, dtype: datetime64[ns]"
     },
     "execution_count": 22,
     "metadata": {},
     "output_type": "execute_result"
    }
   ],
   "source": [
    "pd.to_datetime(interventions3['T1confirmed']).head()"
   ],
   "metadata": {
    "collapsed": false,
    "ExecuteTime": {
     "end_time": "2024-02-16T14:21:42.803914800Z",
     "start_time": "2024-02-16T14:21:42.704328200Z"
    }
   },
   "id": "af25a1aa3f707353"
  },
  {
   "cell_type": "code",
   "execution_count": 45,
   "outputs": [
    {
     "name": "stderr",
     "output_type": "stream",
     "text": [
      "C:\\Users\\wenji\\AppData\\Local\\Temp\\ipykernel_3060\\238587933.py:2: SettingWithCopyWarning: \n",
      "A value is trying to be set on a copy of a slice from a DataFrame.\n",
      "Try using .loc[row_indexer,col_indexer] = value instead\n",
      "\n",
      "See the caveats in the documentation: https://pandas.pydata.org/pandas-docs/stable/user_guide/indexing.html#returning-a-view-versus-a-copy\n",
      "  interventions3['T0'] = pd.to_datetime(interventions3['T0'],format=\"%d%b%y:%H:%M:%S\")\n",
      "C:\\Users\\wenji\\AppData\\Local\\Temp\\ipykernel_3060\\238587933.py:3: SettingWithCopyWarning: \n",
      "A value is trying to be set on a copy of a slice from a DataFrame.\n",
      "Try using .loc[row_indexer,col_indexer] = value instead\n",
      "\n",
      "See the caveats in the documentation: https://pandas.pydata.org/pandas-docs/stable/user_guide/indexing.html#returning-a-view-versus-a-copy\n",
      "  interventions3['T1'] = pd.to_datetime(interventions3['T1'],format=\"%d%b%y:%H:%M:%S\")\n",
      "C:\\Users\\wenji\\AppData\\Local\\Temp\\ipykernel_3060\\238587933.py:4: SettingWithCopyWarning: \n",
      "A value is trying to be set on a copy of a slice from a DataFrame.\n",
      "Try using .loc[row_indexer,col_indexer] = value instead\n",
      "\n",
      "See the caveats in the documentation: https://pandas.pydata.org/pandas-docs/stable/user_guide/indexing.html#returning-a-view-versus-a-copy\n",
      "  interventions3['T1confirmed'] = pd.to_datetime(interventions3['T1confirmed'])\n",
      "C:\\Users\\wenji\\AppData\\Local\\Temp\\ipykernel_3060\\238587933.py:5: SettingWithCopyWarning: \n",
      "A value is trying to be set on a copy of a slice from a DataFrame.\n",
      "Try using .loc[row_indexer,col_indexer] = value instead\n",
      "\n",
      "See the caveats in the documentation: https://pandas.pydata.org/pandas-docs/stable/user_guide/indexing.html#returning-a-view-versus-a-copy\n",
      "  interventions3['T3'] = pd.to_datetime(interventions3['T3'])\n",
      "C:\\Users\\wenji\\AppData\\Local\\Temp\\ipykernel_3060\\238587933.py:6: SettingWithCopyWarning: \n",
      "A value is trying to be set on a copy of a slice from a DataFrame.\n",
      "Try using .loc[row_indexer,col_indexer] = value instead\n",
      "\n",
      "See the caveats in the documentation: https://pandas.pydata.org/pandas-docs/stable/user_guide/indexing.html#returning-a-view-versus-a-copy\n",
      "  interventions3['T4'] = pd.to_datetime(interventions3['T4'])\n",
      "C:\\Users\\wenji\\AppData\\Local\\Temp\\ipykernel_3060\\238587933.py:7: SettingWithCopyWarning: \n",
      "A value is trying to be set on a copy of a slice from a DataFrame.\n",
      "Try using .loc[row_indexer,col_indexer] = value instead\n",
      "\n",
      "See the caveats in the documentation: https://pandas.pydata.org/pandas-docs/stable/user_guide/indexing.html#returning-a-view-versus-a-copy\n",
      "  interventions3['T5'] = pd.to_datetime(interventions3['T5'])\n",
      "C:\\Users\\wenji\\AppData\\Local\\Temp\\ipykernel_3060\\238587933.py:8: SettingWithCopyWarning: \n",
      "A value is trying to be set on a copy of a slice from a DataFrame.\n",
      "Try using .loc[row_indexer,col_indexer] = value instead\n",
      "\n",
      "See the caveats in the documentation: https://pandas.pydata.org/pandas-docs/stable/user_guide/indexing.html#returning-a-view-versus-a-copy\n",
      "  interventions3['T6'] = pd.to_datetime(interventions3['T6'])\n",
      "C:\\Users\\wenji\\AppData\\Local\\Temp\\ipykernel_3060\\238587933.py:9: SettingWithCopyWarning: \n",
      "A value is trying to be set on a copy of a slice from a DataFrame.\n",
      "Try using .loc[row_indexer,col_indexer] = value instead\n",
      "\n",
      "See the caveats in the documentation: https://pandas.pydata.org/pandas-docs/stable/user_guide/indexing.html#returning-a-view-versus-a-copy\n",
      "  interventions3['T7'] = pd.to_datetime(interventions3['T7'])\n"
     ]
    }
   ],
   "source": [
    "#Standardize datetime format\n",
    "interventions3['T0'] = pd.to_datetime(interventions3['T0'],format=\"%d%b%y:%H:%M:%S\")\n",
    "interventions3['T1'] = pd.to_datetime(interventions3['T1'],format=\"%d%b%y:%H:%M:%S\")\n",
    "interventions3['T1confirmed'] = pd.to_datetime(interventions3['T1confirmed'])\n",
    "interventions3['T3'] = pd.to_datetime(interventions3['T3'])\n",
    "interventions3['T4'] = pd.to_datetime(interventions3['T4'])\n",
    "interventions3['T5'] = pd.to_datetime(interventions3['T5'])\n",
    "interventions3['T6'] = pd.to_datetime(interventions3['T6'])\n",
    "interventions3['T7'] = pd.to_datetime(interventions3['T7'])\n",
    "\n"
   ],
   "metadata": {
    "collapsed": false,
    "ExecuteTime": {
     "end_time": "2024-02-16T16:21:28.617103400Z",
     "start_time": "2024-02-16T16:21:28.416522700Z"
    }
   },
   "id": "ade3e644a02ceff7"
  },
  {
   "cell_type": "code",
   "execution_count": 31,
   "outputs": [
    {
     "data": {
      "text/plain": "         Mission ID              Service Name  PostalCode permanence  \\\n2       60230050012          BG LIEG Courtois                 4030.0   \n10      60230050023       BG AMAY Croix Rouge                 4540.0   \n11      60230050023            HG UR HUY_ CHR                 4500.0   \n22      60230050035   FG PDS ANS_ Li√®ge IILE                 4000.0   \n23      60230050035  HG UR LIEG CHC Montlegia                 4000.0   \n...             ...                       ...                    ...   \n191270  90230900221    FN PDS METT Val Sambre                 5640.0   \n191281  90230900233          FN PDS NAMU NAGE                 5100.0   \n191282  90230900233     HN UR NAMU CHR | SMUR                 5000.0   \n191287  90230910001       FN PDS CINE DINAPHI                 5590.0   \n191288  90230910001            HN UR DINA CHU                 5500.0   \n\n        CityName permanence              StreetName permanence  \\\n2       Li√®ge (Grivegn√©e)                        Rue Belvaux   \n10            Amay (Ampsin)                        Rue Ch√©nia   \n11                Huy (Huy)                Rue des Trois Ponts   \n22           li√®ge (glain)              p537;rue jean jaur√®s   \n23           Li√®ge (Glain)  Boulevard de Patience et Beaujonc   \n...                     ...                                ...   \n191270      Mettet (Mettet)                 Rue de Saint-Donat   \n191281       Namur (Jambes)                Chauss√©e de Li√®ge   \n191282        Namur (Namur)                  Avenue Albert 1er   \n191287        Ciney (Ciney)             Rue du March√© Couvert   \n191288      Dinant (Dinant)                  Rue Saint-Jacques   \n\n       HouseNumber permanence  Latitude permanence  Longitude permanence  \\\n2                        None            50.619828               5.60247   \n10                       None            50.540910               5.28524   \n11                       None            50.513330               5.23984   \n22                       None            50.652240               5.52641   \n23                       None            50.646980               5.53601   \n...                       ...                  ...                   ...   \n191270                   None            50.301810               4.64666   \n191281                  55/57            50.456210               4.88008   \n191282                   None            50.466860               4.88765   \n191287                   None            50.308520               5.11713   \n191288                   None            50.265220               4.94732   \n\n       Permanence short name Permanence long name  ... Unavailable time  \\\n2                  AGLIEG02A            PR.COURT2  ...              NaN   \n10                 AGAMAY01A          CR.AMPSIN 1  ...              NaN   \n11                 UGHUY_01A           SMUR HUY 1  ...              NaN   \n22                 AGANS_01A             ZS ANS 1  ...              NaN   \n23                 UGLIEG07A      SMUR MT LEGIA 1  ...              NaN   \n...                      ...                  ...  ...              ...   \n191270             ANMETT01A          ZS METTET 1  ...              NaN   \n191281             ANNAMU01A           ZS NAMUR 1  ...              NaN   \n191282             UNNAMU01A         SMUR NAMUR 1  ...              NaN   \n191287             ANCINE01A           ZS CINEY 1  ...              NaN   \n191288             UNDINA01A        SMUR DINANT 1  ...              NaN   \n\n       Name destination hospital PostalCode destination hospital  \\\n2       HG UR LIEG CHC Montlegia                            None   \n10                HG UR HUY_ CHR                            None   \n11                          None                            None   \n22      HG UR LIEG CHC Montlegia                            None   \n23                          None                            None   \n...                          ...                             ...   \n191270            HN UR YVOI CHU                            None   \n191281            HN UR NAMU CHR                            None   \n191282                      None                            None   \n191287            HN UR DINA CHU                            None   \n191288                      None                            None   \n\n       CityName destination hospital     StreetName destination hospital  \\\n2                     Li√®ge (Glain)   Boulevard de Patience et Beaujonc   \n10                         Huy (Huy)                 Rue des Trois Ponts   \n11                              None                                None   \n22                    Li√®ge (Glain)   Boulevard de Patience et Beaujonc   \n23                              None                                None   \n...                              ...                                 ...   \n191270               Yvoir (Godinne)  Avenue du Docteur Gaston Th√©rasse   \n191281                 Namur (Namur)                   Avenue Albert 1er   \n191282                          None                                None   \n191287               Dinant (Dinant)                   Rue Saint-Jacques   \n191288                          None                                None   \n\n       HouseNumber destination hospital Calculated travelTime destinatio  \\\n2                                  None                            232.0   \n10                                 None                            521.0   \n11                                 None                              NaN   \n22                                 None                            401.0   \n23                                 None                              NaN   \n...                                 ...                              ...   \n191270                             None                            965.0   \n191281                             None                            242.0   \n191282                             None                              NaN   \n191287                             None                            756.0   \n191288                             None                              NaN   \n\n        Calculated Distance destination  Number of transported persons  \\\n2                                3952.0                            1.0   \n10                               9803.0                            1.0   \n11                                  NaN                            NaN   \n22                               4476.0                            1.0   \n23                                  NaN                            NaN   \n...                                 ...                            ...   \n191270                          15921.0                            1.0   \n191281                           3407.0                            1.0   \n191282                              NaN                            NaN   \n191287                          14730.0                            1.0   \n191288                              NaN                            NaN   \n\n       Abandon reason  \n2                None  \n10               None  \n11               None  \n22               None  \n23               None  \n...               ...  \n191270           None  \n191281           None  \n191282           None  \n191287           None  \n191288           None  \n\n[32860 rows x 46 columns]",
      "text/html": "<div>\n<style scoped>\n    .dataframe tbody tr th:only-of-type {\n        vertical-align: middle;\n    }\n\n    .dataframe tbody tr th {\n        vertical-align: top;\n    }\n\n    .dataframe thead th {\n        text-align: right;\n    }\n</style>\n<table border=\"1\" class=\"dataframe\">\n  <thead>\n    <tr style=\"text-align: right;\">\n      <th></th>\n      <th>Mission ID</th>\n      <th>Service Name</th>\n      <th>PostalCode permanence</th>\n      <th>CityName permanence</th>\n      <th>StreetName permanence</th>\n      <th>HouseNumber permanence</th>\n      <th>Latitude permanence</th>\n      <th>Longitude permanence</th>\n      <th>Permanence short name</th>\n      <th>Permanence long name</th>\n      <th>...</th>\n      <th>Unavailable time</th>\n      <th>Name destination hospital</th>\n      <th>PostalCode destination hospital</th>\n      <th>CityName destination hospital</th>\n      <th>StreetName destination hospital</th>\n      <th>HouseNumber destination hospital</th>\n      <th>Calculated travelTime destinatio</th>\n      <th>Calculated Distance destination</th>\n      <th>Number of transported persons</th>\n      <th>Abandon reason</th>\n    </tr>\n  </thead>\n  <tbody>\n    <tr>\n      <th>2</th>\n      <td>60230050012</td>\n      <td>BG LIEG Courtois</td>\n      <td>4030.0</td>\n      <td>Li√®ge (Grivegn√©e)</td>\n      <td>Rue Belvaux</td>\n      <td>None</td>\n      <td>50.619828</td>\n      <td>5.60247</td>\n      <td>AGLIEG02A</td>\n      <td>PR.COURT2</td>\n      <td>...</td>\n      <td>NaN</td>\n      <td>HG UR LIEG CHC Montlegia</td>\n      <td>None</td>\n      <td>Li√®ge (Glain)</td>\n      <td>Boulevard de Patience et Beaujonc</td>\n      <td>None</td>\n      <td>232.0</td>\n      <td>3952.0</td>\n      <td>1.0</td>\n      <td>None</td>\n    </tr>\n    <tr>\n      <th>10</th>\n      <td>60230050023</td>\n      <td>BG AMAY Croix Rouge</td>\n      <td>4540.0</td>\n      <td>Amay (Ampsin)</td>\n      <td>Rue Ch√©nia</td>\n      <td>None</td>\n      <td>50.540910</td>\n      <td>5.28524</td>\n      <td>AGAMAY01A</td>\n      <td>CR.AMPSIN 1</td>\n      <td>...</td>\n      <td>NaN</td>\n      <td>HG UR HUY_ CHR</td>\n      <td>None</td>\n      <td>Huy (Huy)</td>\n      <td>Rue des Trois Ponts</td>\n      <td>None</td>\n      <td>521.0</td>\n      <td>9803.0</td>\n      <td>1.0</td>\n      <td>None</td>\n    </tr>\n    <tr>\n      <th>11</th>\n      <td>60230050023</td>\n      <td>HG UR HUY_ CHR</td>\n      <td>4500.0</td>\n      <td>Huy (Huy)</td>\n      <td>Rue des Trois Ponts</td>\n      <td>None</td>\n      <td>50.513330</td>\n      <td>5.23984</td>\n      <td>UGHUY_01A</td>\n      <td>SMUR HUY 1</td>\n      <td>...</td>\n      <td>NaN</td>\n      <td>None</td>\n      <td>None</td>\n      <td>None</td>\n      <td>None</td>\n      <td>None</td>\n      <td>NaN</td>\n      <td>NaN</td>\n      <td>NaN</td>\n      <td>None</td>\n    </tr>\n    <tr>\n      <th>22</th>\n      <td>60230050035</td>\n      <td>FG PDS ANS_ Li√®ge IILE</td>\n      <td>4000.0</td>\n      <td>li√®ge (glain)</td>\n      <td>p537;rue jean jaur√®s</td>\n      <td>None</td>\n      <td>50.652240</td>\n      <td>5.52641</td>\n      <td>AGANS_01A</td>\n      <td>ZS ANS 1</td>\n      <td>...</td>\n      <td>NaN</td>\n      <td>HG UR LIEG CHC Montlegia</td>\n      <td>None</td>\n      <td>Li√®ge (Glain)</td>\n      <td>Boulevard de Patience et Beaujonc</td>\n      <td>None</td>\n      <td>401.0</td>\n      <td>4476.0</td>\n      <td>1.0</td>\n      <td>None</td>\n    </tr>\n    <tr>\n      <th>23</th>\n      <td>60230050035</td>\n      <td>HG UR LIEG CHC Montlegia</td>\n      <td>4000.0</td>\n      <td>Li√®ge (Glain)</td>\n      <td>Boulevard de Patience et Beaujonc</td>\n      <td>None</td>\n      <td>50.646980</td>\n      <td>5.53601</td>\n      <td>UGLIEG07A</td>\n      <td>SMUR MT LEGIA 1</td>\n      <td>...</td>\n      <td>NaN</td>\n      <td>None</td>\n      <td>None</td>\n      <td>None</td>\n      <td>None</td>\n      <td>None</td>\n      <td>NaN</td>\n      <td>NaN</td>\n      <td>NaN</td>\n      <td>None</td>\n    </tr>\n    <tr>\n      <th>...</th>\n      <td>...</td>\n      <td>...</td>\n      <td>...</td>\n      <td>...</td>\n      <td>...</td>\n      <td>...</td>\n      <td>...</td>\n      <td>...</td>\n      <td>...</td>\n      <td>...</td>\n      <td>...</td>\n      <td>...</td>\n      <td>...</td>\n      <td>...</td>\n      <td>...</td>\n      <td>...</td>\n      <td>...</td>\n      <td>...</td>\n      <td>...</td>\n      <td>...</td>\n      <td>...</td>\n    </tr>\n    <tr>\n      <th>191270</th>\n      <td>90230900221</td>\n      <td>FN PDS METT Val Sambre</td>\n      <td>5640.0</td>\n      <td>Mettet (Mettet)</td>\n      <td>Rue de Saint-Donat</td>\n      <td>None</td>\n      <td>50.301810</td>\n      <td>4.64666</td>\n      <td>ANMETT01A</td>\n      <td>ZS METTET 1</td>\n      <td>...</td>\n      <td>NaN</td>\n      <td>HN UR YVOI CHU</td>\n      <td>None</td>\n      <td>Yvoir (Godinne)</td>\n      <td>Avenue du Docteur Gaston Th√©rasse</td>\n      <td>None</td>\n      <td>965.0</td>\n      <td>15921.0</td>\n      <td>1.0</td>\n      <td>None</td>\n    </tr>\n    <tr>\n      <th>191281</th>\n      <td>90230900233</td>\n      <td>FN PDS NAMU NAGE</td>\n      <td>5100.0</td>\n      <td>Namur (Jambes)</td>\n      <td>Chauss√©e de Li√®ge</td>\n      <td>55/57</td>\n      <td>50.456210</td>\n      <td>4.88008</td>\n      <td>ANNAMU01A</td>\n      <td>ZS NAMUR 1</td>\n      <td>...</td>\n      <td>NaN</td>\n      <td>HN UR NAMU CHR</td>\n      <td>None</td>\n      <td>Namur (Namur)</td>\n      <td>Avenue Albert 1er</td>\n      <td>None</td>\n      <td>242.0</td>\n      <td>3407.0</td>\n      <td>1.0</td>\n      <td>None</td>\n    </tr>\n    <tr>\n      <th>191282</th>\n      <td>90230900233</td>\n      <td>HN UR NAMU CHR | SMUR</td>\n      <td>5000.0</td>\n      <td>Namur (Namur)</td>\n      <td>Avenue Albert 1er</td>\n      <td>None</td>\n      <td>50.466860</td>\n      <td>4.88765</td>\n      <td>UNNAMU01A</td>\n      <td>SMUR NAMUR 1</td>\n      <td>...</td>\n      <td>NaN</td>\n      <td>None</td>\n      <td>None</td>\n      <td>None</td>\n      <td>None</td>\n      <td>None</td>\n      <td>NaN</td>\n      <td>NaN</td>\n      <td>NaN</td>\n      <td>None</td>\n    </tr>\n    <tr>\n      <th>191287</th>\n      <td>90230910001</td>\n      <td>FN PDS CINE DINAPHI</td>\n      <td>5590.0</td>\n      <td>Ciney (Ciney)</td>\n      <td>Rue du March√© Couvert</td>\n      <td>None</td>\n      <td>50.308520</td>\n      <td>5.11713</td>\n      <td>ANCINE01A</td>\n      <td>ZS CINEY 1</td>\n      <td>...</td>\n      <td>NaN</td>\n      <td>HN UR DINA CHU</td>\n      <td>None</td>\n      <td>Dinant (Dinant)</td>\n      <td>Rue Saint-Jacques</td>\n      <td>None</td>\n      <td>756.0</td>\n      <td>14730.0</td>\n      <td>1.0</td>\n      <td>None</td>\n    </tr>\n    <tr>\n      <th>191288</th>\n      <td>90230910001</td>\n      <td>HN UR DINA CHU</td>\n      <td>5500.0</td>\n      <td>Dinant (Dinant)</td>\n      <td>Rue Saint-Jacques</td>\n      <td>None</td>\n      <td>50.265220</td>\n      <td>4.94732</td>\n      <td>UNDINA01A</td>\n      <td>SMUR DINANT 1</td>\n      <td>...</td>\n      <td>NaN</td>\n      <td>None</td>\n      <td>None</td>\n      <td>None</td>\n      <td>None</td>\n      <td>None</td>\n      <td>NaN</td>\n      <td>NaN</td>\n      <td>NaN</td>\n      <td>None</td>\n    </tr>\n  </tbody>\n</table>\n<p>32860 rows × 46 columns</p>\n</div>"
     },
     "execution_count": 31,
     "metadata": {},
     "output_type": "execute_result"
    }
   ],
   "source": [
    "interventions3"
   ],
   "metadata": {
    "collapsed": false,
    "ExecuteTime": {
     "end_time": "2024-02-16T15:50:15.604283200Z",
     "start_time": "2024-02-16T15:50:15.540572Z"
    }
   },
   "id": "e6521702b1c77c0d"
  },
  {
   "cell_type": "code",
   "execution_count": 38,
   "outputs": [
    {
     "name": "stderr",
     "output_type": "stream",
     "text": [
      "C:\\Users\\wenji\\AppData\\Local\\Temp\\ipykernel_3060\\684704236.py:1: SettingWithCopyWarning: \n",
      "A value is trying to be set on a copy of a slice from a DataFrame.\n",
      "Try using .loc[row_indexer,col_indexer] = value instead\n",
      "\n",
      "See the caveats in the documentation: https://pandas.pydata.org/pandas-docs/stable/user_guide/indexing.html#returning-a-view-versus-a-copy\n",
      "  interventions3['Patient waiting Time'] = (pd.to_datetime(interventions3['T3'])-pd.to_datetime(interventions3['T0'],format=\"%d%b%y:%H:%M:%S\")).dt.total_seconds()\n"
     ]
    }
   ],
   "source": [
    "interventions3['Patient waiting Time'] = (pd.to_datetime(interventions3['T3'])-pd.to_datetime(interventions3['T0'],format=\"%d%b%y:%H:%M:%S\")).dt.total_seconds()"
   ],
   "metadata": {
    "collapsed": false,
    "ExecuteTime": {
     "end_time": "2024-02-16T16:14:01.941770500Z",
     "start_time": "2024-02-16T16:14:01.894338700Z"
    }
   },
   "id": "9ef4a3f1a29235b"
  },
  {
   "cell_type": "code",
   "execution_count": 41,
   "outputs": [],
   "source": [
    "#Remove wrong data\n",
    "interventions3 = interventions3[interventions3['Patient waiting Time']>0]"
   ],
   "metadata": {
    "collapsed": false,
    "ExecuteTime": {
     "end_time": "2024-02-16T16:16:18.778800900Z",
     "start_time": "2024-02-16T16:16:18.747010Z"
    }
   },
   "id": "7f3905ee4cc2cb8d"
  },
  {
   "cell_type": "code",
   "execution_count": 46,
   "outputs": [],
   "source": [
    "interventions3.to_csv('D:\\py_projects\\Datathon-AED\\preprocessed-data\\cleaned-interventions3.csv',index=False)"
   ],
   "metadata": {
    "collapsed": false,
    "ExecuteTime": {
     "end_time": "2024-02-16T16:21:44.911410Z",
     "start_time": "2024-02-16T16:21:43.872728300Z"
    }
   },
   "id": "e1f3c3c4c2c2bbb7"
  },
  {
   "cell_type": "code",
   "execution_count": null,
   "outputs": [],
   "source": [],
   "metadata": {
    "collapsed": false
   },
   "id": "c0228cd8f32875b8"
  }
 ],
 "metadata": {
  "kernelspec": {
   "display_name": "Python 3",
   "language": "python",
   "name": "python3"
  },
  "language_info": {
   "codemirror_mode": {
    "name": "ipython",
    "version": 2
   },
   "file_extension": ".py",
   "mimetype": "text/x-python",
   "name": "python",
   "nbconvert_exporter": "python",
   "pygments_lexer": "ipython2",
   "version": "2.7.6"
  }
 },
 "nbformat": 4,
 "nbformat_minor": 5
}
