{
  "cells": [
    {
      "cell_type": "code",
      "execution_count": 1,
      "metadata": {
        "id": "PsJF18QCTdge"
      },
      "outputs": [],
      "source": [
        "import pandas as pd\n",
        "from sklearn.cluster import DBSCAN\n",
        "import numpy as np\n",
        "from tqdm import tqdm, trange\n",
        "from geopy.distance import geodesic\n",
        "\n",
        "\n",
        "import warnings\n",
        "warnings.filterwarnings(\"ignore\")"
      ]
    },
    {
      "cell_type": "markdown",
      "metadata": {},
      "source": [
        "## dbscan"
      ]
    },
    {
      "cell_type": "code",
      "execution_count": 4,
      "metadata": {
        "colab": {
          "base_uri": "https://localhost:8080/",
          "height": 722
        },
        "id": "FKEeeZa9T4Wl",
        "outputId": "d057e293-cd99-4d25-f6d2-86e2aaadd1c2"
      },
      "outputs": [],
      "source": [
        "interventions = pd.read_csv('intervention_without_aed_hospital.csv',encoding='utf-8')\n",
        "interventions[(interventions['lat'].isna()) | (interventions['lon'].isna())]\n",
        "interventions = interventions.drop_duplicates(subset=['mission_id'])"
      ]
    },
    {
      "cell_type": "code",
      "execution_count": 6,
      "metadata": {
        "id": "xIxPt-58VZRu"
      },
      "outputs": [],
      "source": [
        "interventions = interventions[-interventions['lat'].isna()]\n",
        "interventions = interventions[-interventions['lon'].isna()]"
      ]
    },
    {
      "cell_type": "code",
      "execution_count": 7,
      "metadata": {
        "colab": {
          "base_uri": "https://localhost:8080/",
          "height": 964
        },
        "id": "O2mrcS2uV6PI",
        "outputId": "26561dec-2911-48e3-dea7-6f38b1a7bb56"
      },
      "outputs": [],
      "source": [
        "interventions_bra = interventions[(interventions['province']=='Province du Brabant flamand')]"
      ]
    },
    {
      "cell_type": "code",
      "execution_count": 9,
      "metadata": {
        "id": "h4wZJlCdWtGm"
      },
      "outputs": [],
      "source": [
        "latlon = interventions_bra.loc[:,['lat','lon']]"
      ]
    },
    {
      "cell_type": "code",
      "execution_count": 11,
      "metadata": {},
      "outputs": [],
      "source": [
        "def convert_cartesian(lat, lon):\n",
        "    lat = np.deg2rad(lat)\n",
        "    lon = np.deg2rad(lon)\n",
        "    R = 6371 \n",
        "    x = R * np.cos(lat) * np.cos(lon)\n",
        "    y = R * np.cos(lat) * np.sin(lon)\n",
        "    z = R * np.sin(lat)\n",
        "    return x, y, z\n",
        "\n",
        "def convert_geodetic(x, y, z):\n",
        "    R = 6371\n",
        "    lon = np.arctan2(y, x)\n",
        "    lat = np.arcsin(z / R)\n",
        "    return np.rad2deg(lat), np.rad2deg(lon)"
      ]
    },
    {
      "cell_type": "code",
      "execution_count": null,
      "metadata": {},
      "outputs": [],
      "source": [
        "arr_latlon = np.array(latlon)\n",
        "distance_matrix = np.zeros((len(arr_latlon), len(arr_latlon)))\n",
        "\n",
        "# create distance matrix\n",
        "for i in trange(len(arr_latlon)):\n",
        "    for j in range(len(arr_latlon)):\n",
        "        distance_matrix[i, j] = geodesic(arr_latlon[i], arr_latlon[j]).km"
      ]
    },
    {
      "cell_type": "code",
      "execution_count": null,
      "metadata": {
        "id": "80a5ryrEXXtQ"
      },
      "outputs": [],
      "source": [
        "dbscan = DBSCAN(eps=2/6371., min_samples=5, algorithm='auto', metric='precomputed')\n",
        "# clusters = dbscan.fit_predict(np.radians(arr_latlon))\n",
        "clusters = dbscan.fit_predict(distance_matrix)\n",
        "\n",
        "latlon['Cluster'] = clusters\n",
        "\n",
        "print(\"DBSCAN: \", clusters)\n",
        "centers = []\n",
        "\n",
        "for i in np.unique(clusters):\n",
        "    cluster_data = latlon[latlon['Cluster'] == i]\n",
        "    if i == -1:  \n",
        "        for index, row in cluster_data.iterrows():\n",
        "            centers.append([row['lat'], row['lon']])\n",
        "    else:  \n",
        "        x, y, z = convert_cartesian(cluster_data['lat'], cluster_data['lon'])\n",
        "        center_x, center_y, center_z = np.mean(x), np.mean(y), np.mean(z)\n",
        "        center_lat, center_lon = convert_geodetic(center_x, center_y, center_z)\n",
        "        centers.append([center_lat, center_lon])\n",
        "\n",
        "print(centers)"
      ]
    },
    {
      "cell_type": "code",
      "execution_count": 15,
      "metadata": {},
      "outputs": [
        {
          "name": "stdout",
          "output_type": "stream",
          "text": [
            "405\n"
          ]
        }
      ],
      "source": [
        "print(len(centers))"
      ]
    },
    {
      "cell_type": "markdown",
      "metadata": {},
      "source": [
        "## cover"
      ]
    },
    {
      "cell_type": "code",
      "execution_count": 13,
      "metadata": {},
      "outputs": [],
      "source": [
        "df_intervention = pd.read_csv('interventions_ca_geoloc_with_province.csv')\n",
        "interventions_bra_all = df_intervention[(df_intervention['province']=='Province du Brabant flamand')]\n",
        "interventions_bra_all = interventions_bra_all[-interventions_bra_all['lat'].isna()]\n",
        "interventions_bra_all = interventions_bra_all[-interventions_bra_all['lon'].isna()]\n",
        "interventions_bra_all = interventions_bra_all.drop_duplicates(subset=['mission_id'])\n",
        "interventions_latlon = interventions_bra_all[['lat', 'lon']]"
      ]
    },
    {
      "cell_type": "code",
      "execution_count": 14,
      "metadata": {},
      "outputs": [],
      "source": [
        "df_hospital = pd.read_csv('hospital_with_province.csv')\n",
        "hospital_bra = df_hospital[(df_hospital['province']=='Province du Brabant flamand')]\n",
        "hospital_bra = hospital_bra[-hospital_bra['Latitude'].isna()]\n",
        "hospital_bra = hospital_bra[-hospital_bra['Longitude'].isna()]"
      ]
    },
    {
      "cell_type": "code",
      "execution_count": 15,
      "metadata": {},
      "outputs": [],
      "source": [
        "df_aed = pd.read_csv('aed_df_with_province.csv')\n",
        "aed_bra = df_aed[(df_aed['new_province']=='Province du Brabant flamand')]\n",
        "aed_bra = aed_bra[-aed_bra['lat'].isna()]\n",
        "aed_bra = aed_bra[-aed_bra['lon'].isna()]"
      ]
    },
    {
      "cell_type": "code",
      "execution_count": null,
      "metadata": {},
      "outputs": [],
      "source": [
        "aed_latlon = aed_bra[['lat','lon']]"
      ]
    },
    {
      "cell_type": "code",
      "execution_count": 20,
      "metadata": {},
      "outputs": [],
      "source": [
        "hospital_latlon = hospital_bra[['Latitude','Longitude']]"
      ]
    },
    {
      "cell_type": "markdown",
      "metadata": {},
      "source": [
        "cover without new aed"
      ]
    },
    {
      "cell_type": "code",
      "execution_count": 24,
      "metadata": {},
      "outputs": [
        {
          "name": "stderr",
          "output_type": "stream",
          "text": [
            "100%|██████████| 740/740 [01:35<00:00,  7.72it/s]"
          ]
        },
        {
          "name": "stdout",
          "output_type": "stream",
          "text": [
            "cover count: 173\n",
            "uncover count: 567\n",
            "cover rate: 0.23378378378378378\n"
          ]
        },
        {
          "name": "stderr",
          "output_type": "stream",
          "text": [
            "\n"
          ]
        }
      ],
      "source": [
        "driving_speed = 1 \n",
        "walking_speed = 0.1 \n",
        "\n",
        "list_near = []\n",
        "list_far = []\n",
        "\n",
        "for i, row_intervention in tqdm(interventions_latlon.iterrows(), total=interventions_latlon.shape[0]):\n",
        "    is_near = False\n",
        "    intervention_point = (row_intervention['lat'],row_intervention['lon'])\n",
        "\n",
        "    # for j, row_hospital in hospital_latlon.iterrows():\n",
        "    #     hospital_point = (row_hospital['Latitude'],row_hospital['Longitude'])\n",
        "    #     if geodesic(intervention_point, hospital_point).km <= 4 * driving_speed:  #\n",
        "    #         is_near = True\n",
        "    #         break\n",
        "\n",
        "    if not is_near:\n",
        "        for k, row_aed in aed_latlon.iterrows():\n",
        "            aed_point = (row_aed['lat'], row_aed['lon'])\n",
        "            if geodesic(intervention_point, aed_point).km <= 2 * walking_speed:  #\n",
        "                is_near = True\n",
        "                break\n",
        "\n",
        "    if is_near:\n",
        "        # df_near = pd.concat(df_near, latlon.loc[i])\n",
        "        list_near.append(i)\n",
        "    else:\n",
        "        # df_far = pd.concat(df_far, latlon.loc[i])\n",
        "        list_far.append(i)\n",
        "\n",
        "print(f'cover count: {len(list_near)}')\n",
        "print(f'uncover count: {len(list_far)}')\n",
        "print(f'cover rate: {len(list_near)/len(interventions_latlon)}')"
      ]
    },
    {
      "cell_type": "markdown",
      "metadata": {},
      "source": [
        "add new aed"
      ]
    },
    {
      "cell_type": "code",
      "execution_count": 26,
      "metadata": {},
      "outputs": [],
      "source": [
        "aed_new = pd.DataFrame(centers, columns=['lat', 'lon'])"
      ]
    },
    {
      "cell_type": "code",
      "execution_count": null,
      "metadata": {},
      "outputs": [],
      "source": [
        "aed_latlon_new = pd.concat([aed_latlon, aed_new])"
      ]
    },
    {
      "cell_type": "code",
      "execution_count": 28,
      "metadata": {},
      "outputs": [
        {
          "name": "stderr",
          "output_type": "stream",
          "text": [
            "100%|██████████| 740/740 [01:54<00:00,  6.46it/s]"
          ]
        },
        {
          "name": "stdout",
          "output_type": "stream",
          "text": [
            "cover count: 538\n",
            "uncover count: 202\n",
            "cover rate: 0.727027027027027\n"
          ]
        },
        {
          "name": "stderr",
          "output_type": "stream",
          "text": [
            "\n"
          ]
        }
      ],
      "source": [
        "driving_speed = 1 \n",
        "walking_speed = 0.1\n",
        "\n",
        "list_near = []\n",
        "list_far = []\n",
        "\n",
        "for i, row_intervention in tqdm(interventions_latlon.iterrows(), total=interventions_latlon.shape[0]):\n",
        "    is_near = False\n",
        "    intervention_point = (row_intervention['lat'],row_intervention['lon'])\n",
        "\n",
        "    # for j, row_hospital in hospital_latlon.iterrows():\n",
        "    #     hospital_point = (row_hospital['Latitude'],row_hospital['Longitude'])\n",
        "    #     if geodesic(intervention_point, hospital_point).km <= 4 * driving_speed:  #\n",
        "    #         is_near = True\n",
        "    #         break\n",
        "\n",
        "    if not is_near:\n",
        "        for k, row_aed in aed_latlon_new.iterrows():\n",
        "            aed_point = (row_aed['lat'], row_aed['lon'])\n",
        "            if geodesic(intervention_point, aed_point).km <= 2 * walking_speed:  #\n",
        "                is_near = True\n",
        "                break\n",
        "\n",
        "    if is_near:\n",
        "        list_near.append(i)\n",
        "    else:\n",
        "        list_far.append(i)\n",
        "\n",
        "print(f'cover count: {len(list_near)}')\n",
        "print(f'uncover count: {len(list_far)}')\n",
        "print(f'cover rate: {len(list_near)/len(interventions_latlon)}')"
      ]
    },
    {
      "cell_type": "markdown",
      "metadata": {},
      "source": [
        "## dbscan all interventions"
      ]
    },
    {
      "cell_type": "code",
      "execution_count": null,
      "metadata": {},
      "outputs": [],
      "source": [
        "all_latlon = np.array(interventions_latlon)\n",
        "dist_matrix_all = np.zeros((len(all_latlon), len(all_latlon)))\n",
        "\n",
        "for i in trange(len(all_latlon)):\n",
        "    for j in range(len(all_latlon)):\n",
        "        dist_matrix_all[i, j] = geodesic(all_latlon[i], all_latlon[j]).km\n"
      ]
    },
    {
      "cell_type": "code",
      "execution_count": null,
      "metadata": {},
      "outputs": [],
      "source": [
        "dbscan = DBSCAN(eps=2/6371., min_samples=5, algorithm='auto', metric='precomputed')\n",
        "# clusters = dbscan.fit_predict(np.radians(arr_latlon))\n",
        "clusters = dbscan.fit_predict(dist_matrix_all)\n",
        "\n",
        "interventions_latlon['Cluster'] = clusters\n",
        "\n",
        "# 打印聚类结果\n",
        "print(\"DBSCAN: \", clusters)\n",
        "centers_all = []\n",
        "\n",
        "for i in np.unique(clusters):\n",
        "    cluster_data = interventions_latlon[interventions_latlon['Cluster'] == i]\n",
        "    if i == -1:  \n",
        "        for index, row in cluster_data.iterrows():\n",
        "            centers_all.append([row['lat'], row['lon']])\n",
        "    else: \n",
        "        x, y, z = convert_cartesian(cluster_data['lat'], cluster_data['lon'])\n",
        "        center_x, center_y, center_z = np.mean(x), np.mean(y), np.mean(z)\n",
        "        center_lat, center_lon = convert_geodetic(center_x, center_y, center_z)\n",
        "        centers_all.append([center_lat, center_lon])"
      ]
    },
    {
      "cell_type": "code",
      "execution_count": 21,
      "metadata": {},
      "outputs": [
        {
          "data": {
            "text/plain": [
              "735"
            ]
          },
          "execution_count": 21,
          "metadata": {},
          "output_type": "execute_result"
        }
      ],
      "source": [
        "len(centers_all)"
      ]
    },
    {
      "cell_type": "code",
      "execution_count": 22,
      "metadata": {},
      "outputs": [],
      "source": [
        "aed_loc_new = pd.DataFrame(centers_all, columns=['lat', 'lon'])"
      ]
    },
    {
      "cell_type": "code",
      "execution_count": 23,
      "metadata": {},
      "outputs": [
        {
          "name": "stderr",
          "output_type": "stream",
          "text": [
            "100%|██████████| 740/740 [00:29<00:00, 24.99it/s] "
          ]
        },
        {
          "name": "stdout",
          "output_type": "stream",
          "text": [
            "cover count: 740\n",
            "uncover count: 0\n",
            "cover rate: 1.0\n"
          ]
        },
        {
          "name": "stderr",
          "output_type": "stream",
          "text": [
            "\n"
          ]
        }
      ],
      "source": [
        "driving_speed = 1 \n",
        "walking_speed = 0.1\n",
        "\n",
        "# df_near = pd.DataFrame()\n",
        "# df_far = pd.DataFrame()\n",
        "list_near = []\n",
        "list_far = []\n",
        "\n",
        "# 遍历df_intervention\n",
        "for i, row_intervention in tqdm(interventions_latlon.iterrows(), total=interventions_latlon.shape[0]):\n",
        "    is_near = False\n",
        "    intervention_point = (row_intervention['lat'],row_intervention['lon'])\n",
        "\n",
        "    # for j, row_hospital in hospital_latlon.iterrows():\n",
        "    #     hospital_point = (row_hospital['Latitude'],row_hospital['Longitude'])\n",
        "    #     if geodesic(intervention_point, hospital_point).km <= 4 * driving_speed:  #\n",
        "    #         is_near = True\n",
        "    #         break\n",
        "\n",
        "    if not is_near:\n",
        "        for k, row_aed in aed_loc_new.iterrows():\n",
        "            aed_point = (row_aed['lat'], row_aed['lon'])\n",
        "            if geodesic(intervention_point, aed_point).km <= 2 * walking_speed:  #\n",
        "                is_near = True\n",
        "                break\n",
        "\n",
        "    if is_near:\n",
        "        # df_near = pd.concat(df_near, latlon.loc[i])\n",
        "        list_near.append(i)\n",
        "    else:\n",
        "        # df_far = pd.concat(df_far, latlon.loc[i])\n",
        "        list_far.append(i)\n",
        "\n",
        "# 打印近和远的intervention的数量\n",
        "print(f'cover count: {len(list_near)}')\n",
        "print(f'uncover count: {len(list_far)}')\n",
        "print(f'cover rate: {len(list_near)/len(interventions_latlon)}')"
      ]
    },
    {
      "cell_type": "code",
      "execution_count": null,
      "metadata": {},
      "outputs": [],
      "source": []
    }
  ],
  "metadata": {
    "colab": {
      "provenance": []
    },
    "kernelspec": {
      "display_name": "Python 3",
      "name": "python3"
    },
    "language_info": {
      "codemirror_mode": {
        "name": "ipython",
        "version": 3
      },
      "file_extension": ".py",
      "mimetype": "text/x-python",
      "name": "python",
      "nbconvert_exporter": "python",
      "pygments_lexer": "ipython3",
      "version": "3.10.12"
    }
  },
  "nbformat": 4,
  "nbformat_minor": 0
}
